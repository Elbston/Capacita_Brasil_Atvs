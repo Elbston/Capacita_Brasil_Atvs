{
 "cells": [
  {
   "cell_type": "markdown",
   "metadata": {},
   "source": [
    "# Questão 1\n",
    "### Suponha que você tem um array que armazena os nomes de cinco frutas: [“Maçã”, “Banana”, “Cereja”, “Damasco”, “Uva”].\n",
    "### Como você adicionaria uma nova fruta ao final do array e como removeria a fruta da terceira posição?"
   ]
  },
  {
   "cell_type": "code",
   "execution_count": 1,
   "metadata": {},
   "outputs": [
    {
     "name": "stdout",
     "output_type": "stream",
     "text": [
      "['Maçã', 'Banana', 'Cereja', 'Uva', 'Pera']\n",
      "Damasco\n"
     ]
    }
   ],
   "source": [
    "frutas = [\"Maçã\", \"Banana\", \"Cereja\", \"Damasco\", \"Uva\"]\n",
    "fruta_removida =  frutas.pop(3)\n",
    "frutas.append(\"Pera\")\n",
    "print (frutas)\n",
    "print (fruta_removida)"
   ]
  },
  {
   "cell_type": "markdown",
   "metadata": {},
   "source": [
    "# Questão 2\n",
    "### Imagine um array que armazena os nomes de três cores: “Azul”, “Vermelho” e “Amarelo”. \n",
    "### Como você adicionaria a cor “Verde” ao início da lista e como removeria a segunda cor?"
   ]
  },
  {
   "cell_type": "code",
   "execution_count": 2,
   "metadata": {},
   "outputs": [
    {
     "name": "stdout",
     "output_type": "stream",
     "text": [
      "['Verde', 'Vermelho', 'Amarelo']\n",
      "Azul\n"
     ]
    }
   ],
   "source": [
    "Cor = [\"Azul\", \"Vermelho\", \"Amarelo\"]\n",
    "Cor.insert(0, \"Verde\")\n",
    "Cor_removida = Cor.pop(1)\n",
    "print(Cor)\n",
    "print(Cor_removida)"
   ]
  },
  {
   "cell_type": "markdown",
   "metadata": {},
   "source": [
    "# Questão 3\n",
    "### Considere uma pilha utilizada para gerenciar uma sequência de livros. \n",
    "### Se você adicionar três livros à pilha e depois remover o livro no topo, qual livro será o próximo no topo da pilha? Dê um exemplo com os livros “Livro A”, “Livro B” e “Livro C”."
   ]
  },
  {
   "cell_type": "code",
   "execution_count": 2,
   "metadata": {},
   "outputs": [
    {
     "name": "stdout",
     "output_type": "stream",
     "text": [
      "Livro A adiconado à pilha.\n",
      "Livro B adiconado à pilha.\n",
      "Livro C adiconado à pilha.\n",
      "Livro C removido da pilha\n",
      "O proximo livro no topo da pilha é: Livro B\n"
     ]
    }
   ],
   "source": [
    "from collections import deque\n",
    "pilha = deque()\n",
    "\n",
    "def empilhar(livro):\n",
    "    pilha.append(livro)\n",
    "    print(f\"{livro} adiconado à pilha.\")\n",
    "\n",
    "def desempilhar(): #Verifica se a pilha esta vazia\n",
    "    if not pilha:\n",
    "        print(\"A pilha esta vazi, não é possivel desempilhar.\")\n",
    "        return None\n",
    "    return pilha.pop() #Remove e retorna o livro no topo da lista\n",
    "\n",
    "empilhar(\"Livro A\")\n",
    "empilhar(\"Livro B\")\n",
    "empilhar(\"Livro C\")\n",
    "\n",
    "livro_removido = desempilhar()\n",
    "print(f\"{livro_removido} removido da pilha\")\n",
    "\n",
    "if pilha:\n",
    "    print(f\"O proximo livro no topo da pilha é: {pilha[-1]}\")\n",
    "else:\n",
    "    print(\"A pilha esta vazia.\")"
   ]
  },
  {
   "cell_type": "markdown",
   "metadata": {},
   "source": [
    "# Questão 4\n",
    "### Imagine uma fila utilizada para gerenciar a ordem de atendimento em um consultório médico. \n",
    "### Se quatro pacientes são adicionados à fila e dois são atendidos, quem serão os próximos dois pacientes na ordem de atendimento? Considere os pacientes “Paciente 1”, “Paciente 2”, “Paciente 3” e “Paciente 4”."
   ]
  },
  {
   "cell_type": "code",
   "execution_count": 1,
   "metadata": {},
   "outputs": [
    {
     "name": "stdout",
     "output_type": "stream",
     "text": [
      "Atendidos: Paciente 1, Paciente 2\n",
      "Próximos pacientes na fila: ['Paciente 3', 'Paciente 4']\n"
     ]
    }
   ],
   "source": [
    "from collections import deque\n",
    "\n",
    "# Criando a fila\n",
    "fila = deque()\n",
    "\n",
    "# Adicionando pacientes à fila\n",
    "fila.append(\"Paciente 1\")\n",
    "fila.append(\"Paciente 2\")\n",
    "fila.append(\"Paciente 3\")\n",
    "fila.append(\"Paciente 4\")\n",
    "\n",
    "# Atendendo os dois primeiros pacientes\n",
    "paciente_atendido1 = fila.popleft()  # Remove \"Paciente 1\"\n",
    "paciente_atendido2 = fila.popleft()  # Remove \"Paciente 2\"\n",
    "print(f\"Atendidos: {paciente_atendido1}, {paciente_atendido2}\")\n",
    "\n",
    "# Próximos pacientes na ordem de atendimento\n",
    "print(\"Próximos pacientes na fila:\", list(fila))  # Saída: [\"Paciente 3\", \"Paciente 4\"]\n"
   ]
  }
 ],
 "metadata": {
  "kernelspec": {
   "display_name": "Python 3",
   "language": "python",
   "name": "python3"
  },
  "language_info": {
   "codemirror_mode": {
    "name": "ipython",
    "version": 3
   },
   "file_extension": ".py",
   "mimetype": "text/x-python",
   "name": "python",
   "nbconvert_exporter": "python",
   "pygments_lexer": "ipython3",
   "version": "3.10.12"
  },
  "orig_nbformat": 4
 },
 "nbformat": 4,
 "nbformat_minor": 2
}
